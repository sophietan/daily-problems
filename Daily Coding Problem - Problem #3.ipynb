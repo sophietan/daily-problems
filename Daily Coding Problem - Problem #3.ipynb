{
 "cells": [
  {
   "cell_type": "markdown",
   "metadata": {},
   "source": [
    "This problem was asked by Google.\n",
    "\n",
    "Given the root to a binary tree, implement serialize(root), which serializes the tree into a string, and deserialize(s), which deserializes the string back into the tree.\n",
    "\n",
    "For example, given the following Node class\n",
    "\n",
    "class Node:\n",
    "\n",
    "`    def __init__(self, val, left=None, right=None):\n",
    "        self.val = val\n",
    "        self.left = left\n",
    "        self.right = right`\n",
    "        \n",
    "The following test should pass:\n",
    "\n",
    "`node = Node('root', Node('left', Node('left.left')), Node('right'))\n",
    "assert deserialize(serialize(node)).left.left.val == 'left.left'`"
   ]
  },
  {
   "cell_type": "code",
   "execution_count": 13,
   "metadata": {},
   "outputs": [],
   "source": [
    "from dataclasses import dataclass, field\n",
    "from typing import Optional"
   ]
  },
  {
   "cell_type": "code",
   "execution_count": 41,
   "metadata": {},
   "outputs": [],
   "source": [
    "p = '(()()((())))((()))'"
   ]
  },
  {
   "cell_type": "code",
   "execution_count": 38,
   "metadata": {},
   "outputs": [],
   "source": [
    "@dataclass\n",
    "class Node:\n",
    "    val: str\n",
    "    left: Optional['Node'] = field(default=None)\n",
    "    right: Optional['Node'] = field(default=None)\n",
    "    \n",
    "    ESCAPED_CHARS = {'(', ')', ','}\n",
    "    \n",
    "    @classmethod\n",
    "    def escape(cls, unescaped: str) -> str:\n",
    "        escaped = unescaped\n",
    "        for char in cls.ESCAPED_CHARS:\n",
    "            escaped = escaped.replace(char, f'\\\\{char}')\n",
    "        return escaped\n",
    "    \n",
    "    @classmethod\n",
    "    def unescape(cls, escaped: str) -> str:\n",
    "        unescaped = escaped\n",
    "        for char in cls.ESCAPED_CHARS:\n",
    "            unescaped = unescaped.replace(f'\\\\{char}', char)\n",
    "        return unescaped\n",
    "    \n",
    "    @staticmethod\n",
    "    def deserialize(serialized: str) -> 'Node':\n",
    "        stack = []\n",
    "        for c in serialized:\n",
    "            if c == '(':\n",
    "                pointer.append([None, None, None])\n",
    "                pointer = pointer[-1]\n",
    "            elif c == ')':\n",
    "                pointer = pointer[:-1]\n",
    "            elif c == ',':\n",
    "                \n",
    "            else:\n",
    "                \n",
    "\n",
    "    def serialize(self) -> str:\n",
    "        return f'({val},{left},{right})'"
   ]
  },
  {
   "cell_type": "code",
   "execution_count": 40,
   "metadata": {},
   "outputs": [
    {
     "data": {
      "text/plain": [
       "'node,()'"
      ]
     },
     "execution_count": 40,
     "metadata": {},
     "output_type": "execute_result"
    }
   ],
   "source": [
    "Node.unescape(Node.escape('node,()'))"
   ]
  },
  {
   "cell_type": "code",
   "execution_count": 31,
   "metadata": {},
   "outputs": [],
   "source": [
    "node = Node('root(\\'\")', Node('left', Node('left.left')), Node('right'))"
   ]
  },
  {
   "cell_type": "code",
   "execution_count": 32,
   "metadata": {},
   "outputs": [
    {
     "data": {
      "text/plain": [
       "Node(val='root(\\'\")', left=Node(val='left', left=Node(val='left.left', left=None, right=None), right=None), right=Node(val='right', left=None, right=None))"
      ]
     },
     "execution_count": 32,
     "metadata": {},
     "output_type": "execute_result"
    }
   ],
   "source": [
    "node"
   ]
  },
  {
   "cell_type": "code",
   "execution_count": 25,
   "metadata": {},
   "outputs": [
    {
     "data": {
      "text/plain": [
       "Node(val='root()', left=Node(val='left', left=Node(val='left.left', left=None, right=None), right=None), right=Node(val='right', left=None, right=None))"
      ]
     },
     "execution_count": 25,
     "metadata": {},
     "output_type": "execute_result"
    }
   ],
   "source": [
    "Node.deserialize(node.serialize())"
   ]
  },
  {
   "cell_type": "code",
   "execution_count": null,
   "metadata": {},
   "outputs": [],
   "source": []
  }
 ],
 "metadata": {
  "kernelspec": {
   "display_name": "Python 3",
   "language": "python",
   "name": "python3"
  },
  "language_info": {
   "codemirror_mode": {
    "name": "ipython",
    "version": 3
   },
   "file_extension": ".py",
   "mimetype": "text/x-python",
   "name": "python",
   "nbconvert_exporter": "python",
   "pygments_lexer": "ipython3",
   "version": "3.7.1"
  }
 },
 "nbformat": 4,
 "nbformat_minor": 2
}

{
 "cells": [
  {
   "cell_type": "markdown",
   "metadata": {},
   "source": [
    "# Four in a row"
   ]
  },
  {
   "cell_type": "code",
   "execution_count": 118,
   "metadata": {},
   "outputs": [],
   "source": [
    "from enum import Enum\n",
    "from typing import Optional"
   ]
  },
  {
   "cell_type": "code",
   "execution_count": null,
   "metadata": {},
   "outputs": [],
   "source": [
    "class FieldStatus(Enum):\n",
    "    EMPTY = '⚪'\n",
    "    RED = '🟠'\n",
    "    YELLOW = '🟡'"
   ]
  },
  {
   "cell_type": "code",
   "execution_count": null,
   "metadata": {},
   "outputs": [],
   "source": [
    "T = TypeVar('T')"
   ]
  },
  {
   "cell_type": "code",
   "execution_count": 115,
   "metadata": {},
   "outputs": [],
   "source": [
    "class Grid:\n",
    "    \n",
    "    def __init__(self,\n",
    "                 height: int = 6,\n",
    "                 width: int = 7) -> None:\n",
    "        self.height = height\n",
    "        self.width = width\n",
    "        self._data = [[0] * width\n",
    "                      for _ in range(height)]\n",
    "    \n",
    "    def drop(self, pos: int) -> None:\n",
    "        self[pos, 0]\n",
    "    \n",
    "    def __repr__(self) -> str:\n",
    "        return '\\n'.join(' '.join(map(str, line)) for line in self._data)"
   ]
  },
  {
   "cell_type": "code",
   "execution_count": 116,
   "metadata": {},
   "outputs": [
    {
     "data": {
      "text/plain": [
       "0 0 0 0 0 0 0\n",
       "0 0 0 0 0 0 0\n",
       "0 0 0 0 0 0 0\n",
       "0 0 0 0 0 0 0\n",
       "0 0 0 0 0 0 0\n",
       "0 0 0 0 0 0 0"
      ]
     },
     "execution_count": 116,
     "metadata": {},
     "output_type": "execute_result"
    }
   ],
   "source": [
    "grid = Grid()\n",
    "grid"
   ]
  },
  {
   "cell_type": "code",
   "execution_count": 71,
   "metadata": {},
   "outputs": [],
   "source": [
    "def place_counter(grid: List[List[int]]) -> Tuple[int, int]:\n",
    "    grid_height = len(grid)\n",
    "    column = random.randint(0, grid_size - 1)\n",
    "    row = grid_size - 1 ## ie start checking from the bottom row\n",
    "    while grid[row][column] == 1 and row > -1:\n",
    "        row -= 1\n",
    "    else:\n",
    "        grid[row][column] = 1\n",
    "        \n",
    "    return (row,column)"
   ]
  },
  {
   "cell_type": "code",
   "execution_count": 75,
   "metadata": {},
   "outputs": [],
   "source": [
    "last_position = place_counter(grid)\n",
    "    "
   ]
  },
  {
   "cell_type": "code",
   "execution_count": 81,
   "metadata": {},
   "outputs": [
    {
     "name": "stdout",
     "output_type": "stream",
     "text": [
      "4\n",
      "3\n"
     ]
    }
   ],
   "source": [
    "row, column = last_position\n",
    "print(row)\n",
    "print(column)"
   ]
  },
  {
   "cell_type": "code",
   "execution_count": 101,
   "metadata": {},
   "outputs": [],
   "source": [
    "def check_grid(last_position: Tuple[T][T]) -> bool:\n",
    "    row, column = last_position\n",
    "    row_sum = reduce(lambda x, y: x + y, grid[row, :])\n",
    "    column_sum = reduce(lambda x, y: x + y, grid[:, column])\n",
    "    if row_sum == 4 or column_sum == 4:\n",
    "        return True\n",
    "    else:\n",
    "        return False"
   ]
  },
  {
   "cell_type": "code",
   "execution_count": 102,
   "metadata": {},
   "outputs": [],
   "source": [
    "def play_four_in_a_row(grid_size: int):\n",
    "    round_count = 0\n",
    "    \n",
    "    grid = numpy.zeros((grid_size,grid_size))\n",
    "    \n",
    "    last_position = place_counter(grid)\n",
    "    \n",
    "    \n",
    "    while not check_grid(last_position):\n",
    "        last_position = place_counter(grid)\n",
    "        round_count += 1\n",
    "    else:\n",
    "        print(f\"Four in a row! After {round_count} rounds!\")\n",
    "        \n",
    "    return grid"
   ]
  },
  {
   "cell_type": "code",
   "execution_count": null,
   "metadata": {},
   "outputs": [],
   "source": []
  }
 ],
 "metadata": {
  "kernelspec": {
   "display_name": "Python 3",
   "language": "python",
   "name": "python3"
  },
  "language_info": {
   "codemirror_mode": {
    "name": "ipython",
    "version": 3
   },
   "file_extension": ".py",
   "mimetype": "text/x-python",
   "name": "python",
   "nbconvert_exporter": "python",
   "pygments_lexer": "ipython3",
   "version": "3.6.8"
  }
 },
 "nbformat": 4,
 "nbformat_minor": 2
}

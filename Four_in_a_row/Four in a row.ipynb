{
 "cells": [
  {
   "cell_type": "code",
   "execution_count": 24,
   "metadata": {
    "collapsed": true
   },
   "outputs": [],
   "source": [
    "from enum import Enum\n",
    "from typing import Tuple"
   ]
  },
  {
   "cell_type": "code",
   "execution_count": 3,
   "metadata": {
    "collapsed": true
   },
   "outputs": [],
   "source": [
    "class FieldStatus(Enum):\n",
    "    EMPTY = '⚪'\n",
    "    RED = '🔴'\n",
    "    YELLOW = '🔵'"
   ]
  },
  {
   "cell_type": "code",
   "execution_count": 62,
   "metadata": {
    "collapsed": true
   },
   "outputs": [],
   "source": [
    "class Board():\n",
    "    \n",
    "    def __init__(self, height: int = 6, width: int = 7):\n",
    "        self.height = height\n",
    "        self.width = width\n",
    "        self._grid = [[FieldStatus.EMPTY.value] * width for _ in range(height) ]\n",
    "        \n",
    "    def __repr__(self):\n",
    "        return '\\n'.join(' '.join(map(str, line)) for line in self._grid)\n",
    "    \n",
    "    def drop(self, column: int, player: FieldStatus): ##this will be an x, y coordinate\n",
    "        try:\n",
    "            for row in self._grid[:][column]:\n",
    "                if row.value == FieldStatus.EMPTY\n",
    "                \n",
    "                \n",
    "            while grid[row][column] == 1 and row > -1:\n",
    "                row -= 1\n",
    "            else:\n",
    "                grid[row][column] = 1\n",
    "\n",
    "        except IndexError:\n",
    "            print(f'Index {column} out of bounds!')\n",
    "            "
   ]
  },
  {
   "cell_type": "code",
   "execution_count": null,
   "metadata": {
    "collapsed": true
   },
   "outputs": [],
   "source": []
  }
 ],
 "metadata": {
  "kernelspec": {
   "display_name": "Python 3",
   "language": "python",
   "name": "python3"
  },
  "language_info": {
   "codemirror_mode": {
    "name": "ipython",
    "version": 3
   },
   "file_extension": ".py",
   "mimetype": "text/x-python",
   "name": "python",
   "nbconvert_exporter": "python",
   "pygments_lexer": "ipython3",
   "version": "3.6.8"
  }
 },
 "nbformat": 4,
 "nbformat_minor": 2
}
